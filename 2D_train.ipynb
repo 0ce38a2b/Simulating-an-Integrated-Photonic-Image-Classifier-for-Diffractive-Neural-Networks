{
 "cells": [
  {
   "cell_type": "code",
   "execution_count": 1,
   "metadata": {},
   "outputs": [],
   "source": [
    "import os\n",
    "import glob\n",
    "\n",
    "import random\n",
    "import pathlib\n",
    "import numpy as np\n",
    "from tqdm import tqdm\n",
    "import torch\n",
    "import torchvision\n",
    "import torch.nn as nn\n",
    "import torch.nn.functional as F\n",
    "from torchvision import transforms\n",
    "from torch.utils.data import DataLoader\n",
    "import matplotlib.patches as patches\n",
    "from PIL import Image\n",
    "os.environ[\"CUDA_VISIBLE_DEVICES\"] = '0'\n",
    "torch.backends.cudnn.benchmark = True\n",
    "# import cupy as cp\n",
    "\n",
    "import matplotlib.pyplot as plt\n",
    "from matplotlib.colors import LinearSegmentedColormap\n",
    "from matplotlib import animation\n",
    "from matplotlib.animation import PillowWriter\n",
    "from mpl_toolkits.axes_grid1 import make_axes_locatable\n",
    "import matplotlib.colors as colors\n",
    "\n",
    "import time\n",
    "import multiprocessing as m\n",
    "import concurrent.futures\n",
    "from sklearn.metrics import confusion_matrix\n",
    "\n",
    "\n",
    "import pickle"
   ]
  },
  {
   "cell_type": "code",
   "execution_count": 2,
   "metadata": {},
   "outputs": [],
   "source": [
    "# def clc():\n",
    "#     current_dir = os.getcwd()\n",
    "#     pth_files = glob.glob(os.path.join(current_dir, \"*.pth\"))\n",
    "#     for pth_file in pth_files:\n",
    "#         os.remove(pth_file)\n",
    "\n",
    "#     pkl_files = glob.glob(os.path.join(current_dir, \"*.pkl\"))\n",
    "#     for pkl_file in pkl_files:\n",
    "#         os.remove(pkl_file)\n",
    "#     svg_files = glob.glob(os.path.join(current_dir, \"*.svg\"))\n",
    "#     for svg_file in svg_files:\n",
    "#         os.remove(svg_file)\n",
    "\n",
    "#     print(\"已清空当前目录下所有.pth & .pkl & .svg 文件\")\n",
    "# clc()"
   ]
  },
  {
   "cell_type": "markdown",
   "metadata": {
    "tags": []
   },
   "source": [
    "### 注意检查参数！！！！"
   ]
  },
  {
   "cell_type": "code",
   "execution_count": 3,
   "metadata": {},
   "outputs": [
    {
     "name": "stdout",
     "output_type": "stream",
     "text": [
      "确保全连接的最小距离是: 99.42603230595124\n"
     ]
    }
   ],
   "source": [
    "resample_size = 10 # down sample from 28 to 10\n",
    "thold = 0.22\n",
    "pad_size = 0\n",
    "size = resample_size*resample_size + 2*pad_size\n",
    "\n",
    "ref_ind = 3.45          # Refractive index of Silicon\n",
    "free_wv = 1.55e-6       # Wavelength in freespace\n",
    "wv = free_wv/ref_ind    # Wavelength in Silicon\n",
    "\n",
    "Hz = 3e8/wv\n",
    "rect_length = 0.5e-6\n",
    "layer_length = size*rect_length\n",
    "\n",
    "z_min = size * rect_length * np.sqrt((4*rect_length**2)/wv**2-1) *1e6\n",
    "print(\"确保全连接的最小距离是: \" + str(z_min))\n",
    "z = 100e-6 # 300e-6\n",
    "\n",
    "num_layers = 1\n",
    "lr = 0.1\n",
    "batch_size = 100\n",
    "epochs = 200\n",
    "\n",
    "# RAM 64GB,8cpu ,size =100, num_process = 20, W --> 63 sec\n",
    "# RAM 64GB,8cpu ,size =120, num_process = 20, W --> 129 sec"
   ]
  },
  {
   "cell_type": "markdown",
   "metadata": {
    "tags": []
   },
   "source": [
    "### Build and train D2NN"
   ]
  },
  {
   "cell_type": "code",
   "execution_count": 4,
   "metadata": {},
   "outputs": [
    {
     "name": "stdout",
     "output_type": "stream",
     "text": [
      "NumPy计算时间： 0.05896759033203125 s\n",
      "(100, 100)\n"
     ]
    }
   ],
   "source": [
    "def core_matrix(z):\n",
    "    distance = z                         # distance bewteen two layers (3cm)\n",
    "    wl = 3e8 / Hz                        # wave length\n",
    "    wn = 2 * np.pi / wl                  # wave number\n",
    "    c = rect_length\n",
    "    w = np.zeros((size, size), dtype=np.complex64)\n",
    "\n",
    "    for i in range(0, size, 1):\n",
    "        s = i % size\n",
    "        for k in range(i+1, size, 1):\n",
    "            n = k % size\n",
    "            # print(n-s)\n",
    "            r_ns = np.sqrt(np.square(distance) + np.square(n * c - s * c))\n",
    "            w[i][k] = np.exp(1j * wn * r_ns) * (1 / (2 * np.pi * r_ns) + 1 / (1j * wl)) * distance / (r_ns ** 2)\n",
    "            \n",
    "\n",
    "    w_diagonal = np.exp(1j * wn * distance) * (1 / (2 * np.pi * distance) + 1 / (1j * wl)) * distance / (distance*distance)\n",
    "    w = w.T + w\n",
    "\n",
    "    for i in range(0, size, 1):\n",
    "        w[i][i] = w_diagonal\n",
    "    \n",
    "    w = (w * rect_length * 0.22e-6) \n",
    "    return w\n",
    "\n",
    "start = time.time()\n",
    "W = core_matrix(z)\n",
    "end = time.time()\n",
    "print('NumPy计算时间：', end - start, 's')\n",
    "\n",
    "print(np.shape(W))\n",
    "# np.savetxt(r'W.txt', np.array(W),delimiter = ',')"
   ]
  },
  {
   "cell_type": "code",
   "execution_count": 5,
   "metadata": {},
   "outputs": [],
   "source": [
    "def convert_to_col_vector(arr):\n",
    "    vec = arr.view(arr.size(0), -1).t()\n",
    "    return vec\n",
    "\n",
    "def convert_to_mat(arr):\n",
    "    mat = arr.t().view(arr.size(1), size, 1)\n",
    "    return mat\n",
    "\n",
    "def detector_region(x): # 输入是 x_intisity\n",
    "    '''检测区域应该集中在中间部分'''\n",
    "    i = size/165\n",
    "    m = 10\n",
    "    step_sizes = [10, 25, 40, 55, 70, 85, 100, 115, 130, 145]\n",
    "    result = []\n",
    "    for step in step_sizes:\n",
    "        slice = x[:, int(i*step):int(i*(step+m)), :]\n",
    "        result.append((slice / torch.max(slice)).mean(dim=(1, 2)).unsqueeze(-1))\n",
    "    return torch.cat(result, dim=-1)\n",
    "    # 测试过了， 一定要 归一化光强\n",
    "\n",
    "    \n",
    "class D2NN(torch.nn.Module):\n",
    "\n",
    "    def __init__(self, num_layers = num_layers):\n",
    "        super(D2NN, self).__init__()\n",
    "\n",
    "        self.phase = torch.nn.Parameter(torch.from_numpy(np.random.random(size=(num_layers, size, 1)).astype('float32')),\n",
    "                                         requires_grad=True)\n",
    "    \n",
    "        # self.sofmax = torch.nn.Softmax(dim = -1)\n",
    "        self.W = torch.from_numpy(W).cuda()\n",
    "\n",
    "    def forward(self, x): \n",
    "        # 注意： 不需要做 phase reset\n",
    "        x = torch.complex(x, torch.zeros_like(x)) # 相位图后不需要这一行\n",
    "        x = convert_to_col_vector(x) \n",
    "        P = torch.matmul(self.W, x)\n",
    "        \n",
    "        for i in range(self.phase.size(0)):\n",
    "            phase = torch.exp(1j * self.phase[i].squeeze())\n",
    "            P = torch.matmul(self.W, P * phase.unsqueeze(-1))\n",
    "        \n",
    "        x = convert_to_mat(P)\n",
    "        x_intisity = torch.abs(x)**2\n",
    "        output = detector_region(x_intisity) * 10      \n",
    "        return output\n",
    "    \n",
    "\n",
    "class Resize(object):\n",
    "    def __init__(self, size=10):\n",
    "        self.size = size\n",
    "\n",
    "    def __call__(self, image):\n",
    "        image = np.array(image)\n",
    "        extracted_image = image[5: 25: 2, 5: 25: 2]\n",
    "        return extracted_image\n",
    "\n",
    "# class Resize(object):\n",
    "#     def __init__(self, size=10):\n",
    "#         self.size = size\n",
    "\n",
    "#     def __call__(self, image):\n",
    "#         image = np.array(image)\n",
    "#         extracted_image = image[5: 25: 1, 5: 25: 1]\n",
    "#         return extracted_image\n",
    "    \n",
    "\n",
    "training_history = {'train_loss': [], 'train_acc': [], 'val_loss': [], 'val_acc': []}\n",
    "def train_sce(num_layers):\n",
    "    model_name ='.pth'\n",
    "    model_save_path = \"./mnist_\"+str(size)+\"_\"+str(num_layers)+\"_\"\n",
    "    \n",
    "    # resize 之后还是个2D图， 要 flatten\n",
    "    transform = transforms.Compose([Resize(size=resample_size),\n",
    "                                    transforms.ToTensor(),transforms.Lambda(lambda x: torch.flatten(x))])\n",
    "\n",
    "    train_dataset = torchvision.datasets.MNIST(root = \"./data\",train=True,transform=transform,download=True)\n",
    "    val_dataset = torchvision.datasets.MNIST(root = \"./data\",train=False, transform=transform,download=True)\n",
    "\n",
    "    train_dataloader = DataLoader(dataset=train_dataset, batch_size=batch_size, num_workers=0, shuffle=True, pin_memory=True)\n",
    "    val_dataloader = DataLoader(dataset=val_dataset, batch_size=batch_size, num_workers=0, shuffle=False, pin_memory=True)\n",
    "\n",
    "    model = D2NN(num_layers)\n",
    "    # model.load_state_dict(torch.load(r'./test00_mnist_200_10_54.pth'), strict=False)\n",
    "    model.cuda()\n",
    "\n",
    "    # criterion = torch.nn.MSELoss(reduction='sum').cuda()    # MSE loss function\n",
    "    criterion = torch.nn.CrossEntropyLoss().cuda() # justified\n",
    "    optimizer = torch.optim.Adam(model.parameters(), lr=lr, betas=(0.9, 0.999))  # Adam optimizer\n",
    "    # adjust_learning_rate = torch.optim.lr_scheduler.CosineAnnealingLR(optimizer, T_max = epochs, eta_min=0, last_epoch=-1)\n",
    "    # 余弦退火周期的长度 会影响 acc，可以尝试设置大于 50 的值\n",
    "    \n",
    "    adjust_learning_rate = torch.optim.lr_scheduler.ExponentialLR(optimizer, gamma=0.95)\n",
    "\n",
    "    for epoch in range(1,  1 + epochs):  # train\n",
    "        \n",
    "        model.train()\n",
    "\n",
    "        train_len,train_running_counter, train_running_loss  = 0.0, 0.0, 0.0\n",
    "\n",
    "        tk0 = tqdm(train_dataloader, ncols=100, total=int(len(train_dataloader)))\n",
    "        for train_iter, train_data_batch in enumerate(tk0):\n",
    "            \n",
    "            train_images = train_data_batch[0].cuda()\n",
    "            a = torch.zeros_like(train_images)\n",
    "            b = torch.ones_like(train_images)\n",
    "            train_images = torch.where(train_images >thold, b, a)  # 图像预处理: 转成二值图\n",
    "            # 一个 batch 中[0]是图片，[1]是标签, 先得到相位图， 再填充 0  \n",
    "            # train_images = torch.exp(1j*train_data_batch[0].cuda()*2*np.pi) # 相位图\n",
    "            train_images = F.pad(train_images, pad=(pad_size,pad_size))\n",
    "            train_labels = F.one_hot(train_data_batch[1].cuda(), num_classes=10).float()   # convert the label to one-hot form\n",
    "            train_images = train_images.squeeze(dim=1)\n",
    "            \n",
    "            train_outputs = model(train_images)\n",
    "            train_loss_ = criterion(train_outputs, train_labels)\n",
    "\n",
    "            train_counter_ = torch.eq(torch.argmax(train_labels, dim=1), torch.argmax(train_outputs, dim=1)).float().sum()\n",
    "\n",
    "            optimizer.zero_grad()\n",
    "            train_loss_.backward()\n",
    "            optimizer.step()\n",
    "\n",
    "            train_len += batch_size\n",
    "            train_running_loss += train_loss_.item()\n",
    "            train_running_counter += train_counter_\n",
    "\n",
    "            train_loss = float(train_running_loss / train_len)\n",
    "            train_accuracy = float(train_running_counter / train_len)\n",
    "\n",
    "            tk0.set_postfix({'Train_Accuracy': '{:.4f}'.format(train_accuracy), 'Train_Loss': '{:.4f}'.format(train_loss)})\n",
    "\n",
    "        training_history['train_loss'].append(train_loss)\n",
    "        training_history['train_acc'].append(train_accuracy)\n",
    "\n",
    "\n",
    "        adjust_learning_rate.step()\n",
    "\n",
    "        \n",
    "        with torch.no_grad():\n",
    "            \n",
    "            model.eval()\n",
    "            val_len,val_running_counter, val_running_loss = 0.0, 0.0, 0.0\n",
    "\n",
    "            tk1 = tqdm(val_dataloader, ncols=100, total=int(len(val_dataloader)))\n",
    "            for val_iter, val_data_batch in enumerate(tk1):\n",
    "                \n",
    "                val_images = val_data_batch[0].cuda()\n",
    "                a = torch.zeros_like(val_images)\n",
    "                b = torch.ones_like(val_images)\n",
    "                val_images = torch.where(val_images >thold, b, a)  # 图像预处理: 转成二值图\n",
    "                # val_images = torch.exp(1j*val_data_batch[0].cuda()*2*np.pi) # phase object\n",
    "                val_images = F.pad(val_images, pad=(pad_size,pad_size))\n",
    "                val_labels = F.one_hot(val_data_batch[1].cuda(), num_classes=10).float()\n",
    "\n",
    "                val_images = val_images.squeeze(dim=1)\n",
    "                val_outputs = model(val_images)\n",
    "\n",
    "                val_loss_ = criterion(val_outputs, val_labels)\n",
    "                val_counter_ = torch.eq(torch.argmax(val_labels, dim=1), torch.argmax(val_outputs, dim=1)).float().sum()\n",
    "\n",
    "                val_len += batch_size\n",
    "                val_running_loss += val_loss_.item()\n",
    "                val_running_counter += val_counter_\n",
    "\n",
    "                val_loss = float(val_running_loss / val_len)\n",
    "                val_accuracy = float(val_running_counter / val_len)\n",
    "\n",
    "                \n",
    "                tk1.set_postfix({'Val_Accuracy': '{:.4f}'.format(val_accuracy), 'Val_Loss': '{:.4f}'.format(val_loss)})\n",
    "\n",
    "            training_history['val_loss'].append(val_loss)\n",
    "            training_history['val_acc'].append(val_accuracy)\n",
    "\n",
    "        torch.save(model.state_dict(), (model_save_path + str(epoch) + model_name))\n",
    "        print('Model : \"' + model_save_path + str(epoch) + model_name + '\" saved.')\n",
    "        \n",
    "        with open(\"training_history\"+\"_\"+str (size) +\"_\"+ str(num_layers)+\".pkl\", 'wb') as f:\n",
    "            pickle.dump(training_history, f)"
   ]
  },
  {
   "cell_type": "code",
   "execution_count": null,
   "metadata": {},
   "outputs": [
    {
     "name": "stderr",
     "output_type": "stream",
     "text": [
      "100%|███████████████████| 600/600 [00:18<00:00, 32.40it/s, Train_Accuracy=0.5027, Train_Loss=0.0160]\n",
      "100%|███████████████████████| 100/100 [00:01<00:00, 53.28it/s, Val_Accuracy=0.5522, Val_Loss=0.0148]\n"
     ]
    },
    {
     "name": "stdout",
     "output_type": "stream",
     "text": [
      "Model : \"./mnist_100_1_1.pth\" saved.\n"
     ]
    },
    {
     "name": "stderr",
     "output_type": "stream",
     "text": [
      "100%|███████████████████| 600/600 [00:18<00:00, 31.92it/s, Train_Accuracy=0.5438, Train_Loss=0.0148]\n",
      "100%|███████████████████████| 100/100 [00:01<00:00, 52.72it/s, Val_Accuracy=0.5625, Val_Loss=0.0143]\n"
     ]
    },
    {
     "name": "stdout",
     "output_type": "stream",
     "text": [
      "Model : \"./mnist_100_1_2.pth\" saved.\n"
     ]
    },
    {
     "name": "stderr",
     "output_type": "stream",
     "text": [
      "100%|███████████████████| 600/600 [00:16<00:00, 36.53it/s, Train_Accuracy=0.5492, Train_Loss=0.0147]\n",
      "100%|███████████████████████| 100/100 [00:01<00:00, 52.74it/s, Val_Accuracy=0.5549, Val_Loss=0.0143]\n"
     ]
    },
    {
     "name": "stdout",
     "output_type": "stream",
     "text": [
      "Model : \"./mnist_100_1_3.pth\" saved.\n"
     ]
    },
    {
     "name": "stderr",
     "output_type": "stream",
     "text": [
      "100%|███████████████████| 600/600 [00:17<00:00, 34.83it/s, Train_Accuracy=0.5495, Train_Loss=0.0146]\n",
      "100%|███████████████████████| 100/100 [00:02<00:00, 47.74it/s, Val_Accuracy=0.5540, Val_Loss=0.0143]\n"
     ]
    },
    {
     "name": "stdout",
     "output_type": "stream",
     "text": [
      "Model : \"./mnist_100_1_4.pth\" saved.\n"
     ]
    },
    {
     "name": "stderr",
     "output_type": "stream",
     "text": [
      "100%|███████████████████| 600/600 [00:17<00:00, 34.60it/s, Train_Accuracy=0.5471, Train_Loss=0.0147]\n",
      "100%|███████████████████████| 100/100 [00:01<00:00, 54.19it/s, Val_Accuracy=0.5524, Val_Loss=0.0144]\n"
     ]
    },
    {
     "name": "stdout",
     "output_type": "stream",
     "text": [
      "Model : \"./mnist_100_1_5.pth\" saved.\n"
     ]
    },
    {
     "name": "stderr",
     "output_type": "stream",
     "text": [
      "100%|███████████████████| 600/600 [00:16<00:00, 35.66it/s, Train_Accuracy=0.5504, Train_Loss=0.0146]\n",
      "100%|███████████████████████| 100/100 [00:01<00:00, 52.22it/s, Val_Accuracy=0.5637, Val_Loss=0.0141]\n"
     ]
    },
    {
     "name": "stdout",
     "output_type": "stream",
     "text": [
      "Model : \"./mnist_100_1_6.pth\" saved.\n"
     ]
    },
    {
     "name": "stderr",
     "output_type": "stream",
     "text": [
      "100%|███████████████████| 600/600 [00:16<00:00, 35.54it/s, Train_Accuracy=0.5542, Train_Loss=0.0146]\n",
      "100%|███████████████████████| 100/100 [00:01<00:00, 55.61it/s, Val_Accuracy=0.5637, Val_Loss=0.0142]\n"
     ]
    },
    {
     "name": "stdout",
     "output_type": "stream",
     "text": [
      "Model : \"./mnist_100_1_7.pth\" saved.\n"
     ]
    },
    {
     "name": "stderr",
     "output_type": "stream",
     "text": [
      "100%|███████████████████| 600/600 [00:17<00:00, 33.63it/s, Train_Accuracy=0.5540, Train_Loss=0.0146]\n",
      "100%|███████████████████████| 100/100 [00:01<00:00, 54.47it/s, Val_Accuracy=0.5618, Val_Loss=0.0142]\n"
     ]
    },
    {
     "name": "stdout",
     "output_type": "stream",
     "text": [
      "Model : \"./mnist_100_1_8.pth\" saved.\n"
     ]
    },
    {
     "name": "stderr",
     "output_type": "stream",
     "text": [
      "100%|███████████████████| 600/600 [00:17<00:00, 34.78it/s, Train_Accuracy=0.5557, Train_Loss=0.0146]\n",
      "100%|███████████████████████| 100/100 [00:01<00:00, 50.37it/s, Val_Accuracy=0.5667, Val_Loss=0.0142]\n"
     ]
    },
    {
     "name": "stdout",
     "output_type": "stream",
     "text": [
      "Model : \"./mnist_100_1_9.pth\" saved.\n"
     ]
    },
    {
     "name": "stderr",
     "output_type": "stream",
     "text": [
      "100%|███████████████████| 600/600 [00:17<00:00, 33.48it/s, Train_Accuracy=0.5595, Train_Loss=0.0145]\n",
      "100%|███████████████████████| 100/100 [00:01<00:00, 55.59it/s, Val_Accuracy=0.5660, Val_Loss=0.0141]\n"
     ]
    },
    {
     "name": "stdout",
     "output_type": "stream",
     "text": [
      "Model : \"./mnist_100_1_10.pth\" saved.\n"
     ]
    },
    {
     "name": "stderr",
     "output_type": "stream",
     "text": [
      "100%|███████████████████| 600/600 [00:17<00:00, 34.40it/s, Train_Accuracy=0.5577, Train_Loss=0.0145]\n",
      "100%|███████████████████████| 100/100 [00:01<00:00, 53.73it/s, Val_Accuracy=0.5679, Val_Loss=0.0141]\n"
     ]
    },
    {
     "name": "stdout",
     "output_type": "stream",
     "text": [
      "Model : \"./mnist_100_1_11.pth\" saved.\n"
     ]
    },
    {
     "name": "stderr",
     "output_type": "stream",
     "text": [
      "100%|███████████████████| 600/600 [00:17<00:00, 34.19it/s, Train_Accuracy=0.5560, Train_Loss=0.0145]\n",
      "100%|███████████████████████| 100/100 [00:02<00:00, 48.66it/s, Val_Accuracy=0.5665, Val_Loss=0.0141]\n"
     ]
    },
    {
     "name": "stdout",
     "output_type": "stream",
     "text": [
      "Model : \"./mnist_100_1_12.pth\" saved.\n"
     ]
    },
    {
     "name": "stderr",
     "output_type": "stream",
     "text": [
      "100%|███████████████████| 600/600 [00:17<00:00, 33.96it/s, Train_Accuracy=0.5577, Train_Loss=0.0145]\n",
      "100%|███████████████████████| 100/100 [00:01<00:00, 53.69it/s, Val_Accuracy=0.5714, Val_Loss=0.0140]\n"
     ]
    },
    {
     "name": "stdout",
     "output_type": "stream",
     "text": [
      "Model : \"./mnist_100_1_13.pth\" saved.\n"
     ]
    },
    {
     "name": "stderr",
     "output_type": "stream",
     "text": [
      "100%|███████████████████| 600/600 [00:16<00:00, 36.32it/s, Train_Accuracy=0.5601, Train_Loss=0.0144]\n",
      "100%|███████████████████████| 100/100 [00:01<00:00, 55.53it/s, Val_Accuracy=0.5690, Val_Loss=0.0140]\n"
     ]
    },
    {
     "name": "stdout",
     "output_type": "stream",
     "text": [
      "Model : \"./mnist_100_1_14.pth\" saved.\n"
     ]
    },
    {
     "name": "stderr",
     "output_type": "stream",
     "text": [
      "100%|███████████████████| 600/600 [00:17<00:00, 34.30it/s, Train_Accuracy=0.5596, Train_Loss=0.0144]\n",
      "100%|███████████████████████| 100/100 [00:01<00:00, 56.04it/s, Val_Accuracy=0.5565, Val_Loss=0.0141]\n"
     ]
    },
    {
     "name": "stdout",
     "output_type": "stream",
     "text": [
      "Model : \"./mnist_100_1_15.pth\" saved.\n"
     ]
    },
    {
     "name": "stderr",
     "output_type": "stream",
     "text": [
      "100%|███████████████████| 600/600 [00:17<00:00, 33.77it/s, Train_Accuracy=0.5625, Train_Loss=0.0144]\n",
      "100%|███████████████████████| 100/100 [00:01<00:00, 53.61it/s, Val_Accuracy=0.5705, Val_Loss=0.0140]\n"
     ]
    },
    {
     "name": "stdout",
     "output_type": "stream",
     "text": [
      "Model : \"./mnist_100_1_16.pth\" saved.\n"
     ]
    },
    {
     "name": "stderr",
     "output_type": "stream",
     "text": [
      "100%|███████████████████| 600/600 [00:17<00:00, 34.24it/s, Train_Accuracy=0.5603, Train_Loss=0.0144]\n",
      "100%|███████████████████████| 100/100 [00:02<00:00, 49.79it/s, Val_Accuracy=0.5764, Val_Loss=0.0140]\n"
     ]
    },
    {
     "name": "stdout",
     "output_type": "stream",
     "text": [
      "Model : \"./mnist_100_1_17.pth\" saved.\n"
     ]
    },
    {
     "name": "stderr",
     "output_type": "stream",
     "text": [
      "100%|███████████████████| 600/600 [00:17<00:00, 33.55it/s, Train_Accuracy=0.5616, Train_Loss=0.0144]\n",
      "100%|███████████████████████| 100/100 [00:01<00:00, 51.84it/s, Val_Accuracy=0.5662, Val_Loss=0.0140]\n"
     ]
    },
    {
     "name": "stdout",
     "output_type": "stream",
     "text": [
      "Model : \"./mnist_100_1_18.pth\" saved.\n"
     ]
    },
    {
     "name": "stderr",
     "output_type": "stream",
     "text": [
      "100%|███████████████████| 600/600 [00:16<00:00, 35.71it/s, Train_Accuracy=0.5609, Train_Loss=0.0144]\n",
      "100%|███████████████████████| 100/100 [00:01<00:00, 54.85it/s, Val_Accuracy=0.5699, Val_Loss=0.0140]\n"
     ]
    },
    {
     "name": "stdout",
     "output_type": "stream",
     "text": [
      "Model : \"./mnist_100_1_19.pth\" saved.\n"
     ]
    },
    {
     "name": "stderr",
     "output_type": "stream",
     "text": [
      "100%|███████████████████| 600/600 [00:16<00:00, 35.90it/s, Train_Accuracy=0.5639, Train_Loss=0.0144]\n",
      "100%|███████████████████████| 100/100 [00:01<00:00, 55.92it/s, Val_Accuracy=0.5601, Val_Loss=0.0141]\n"
     ]
    },
    {
     "name": "stdout",
     "output_type": "stream",
     "text": [
      "Model : \"./mnist_100_1_20.pth\" saved.\n"
     ]
    },
    {
     "name": "stderr",
     "output_type": "stream",
     "text": [
      "100%|███████████████████| 600/600 [00:16<00:00, 35.72it/s, Train_Accuracy=0.5602, Train_Loss=0.0144]\n",
      "100%|███████████████████████| 100/100 [00:01<00:00, 54.52it/s, Val_Accuracy=0.5700, Val_Loss=0.0140]\n"
     ]
    },
    {
     "name": "stdout",
     "output_type": "stream",
     "text": [
      "Model : \"./mnist_100_1_21.pth\" saved.\n"
     ]
    },
    {
     "name": "stderr",
     "output_type": "stream",
     "text": [
      "100%|███████████████████| 600/600 [00:17<00:00, 35.26it/s, Train_Accuracy=0.5620, Train_Loss=0.0144]\n",
      "100%|███████████████████████| 100/100 [00:01<00:00, 55.28it/s, Val_Accuracy=0.5661, Val_Loss=0.0140]\n"
     ]
    },
    {
     "name": "stdout",
     "output_type": "stream",
     "text": [
      "Model : \"./mnist_100_1_22.pth\" saved.\n"
     ]
    },
    {
     "name": "stderr",
     "output_type": "stream",
     "text": [
      "100%|███████████████████| 600/600 [00:17<00:00, 34.25it/s, Train_Accuracy=0.5624, Train_Loss=0.0143]\n",
      "100%|███████████████████████| 100/100 [00:01<00:00, 54.46it/s, Val_Accuracy=0.5642, Val_Loss=0.0140]\n"
     ]
    },
    {
     "name": "stdout",
     "output_type": "stream",
     "text": [
      "Model : \"./mnist_100_1_23.pth\" saved.\n"
     ]
    },
    {
     "name": "stderr",
     "output_type": "stream",
     "text": [
      "100%|███████████████████| 600/600 [00:18<00:00, 32.33it/s, Train_Accuracy=0.5613, Train_Loss=0.0143]\n",
      "100%|███████████████████████| 100/100 [00:01<00:00, 54.57it/s, Val_Accuracy=0.5706, Val_Loss=0.0140]\n"
     ]
    },
    {
     "name": "stdout",
     "output_type": "stream",
     "text": [
      "Model : \"./mnist_100_1_24.pth\" saved.\n"
     ]
    },
    {
     "name": "stderr",
     "output_type": "stream",
     "text": [
      "100%|███████████████████| 600/600 [00:17<00:00, 33.51it/s, Train_Accuracy=0.5657, Train_Loss=0.0143]\n",
      "100%|███████████████████████| 100/100 [00:01<00:00, 54.08it/s, Val_Accuracy=0.5675, Val_Loss=0.0140]\n"
     ]
    },
    {
     "name": "stdout",
     "output_type": "stream",
     "text": [
      "Model : \"./mnist_100_1_25.pth\" saved.\n"
     ]
    },
    {
     "name": "stderr",
     "output_type": "stream",
     "text": [
      "100%|███████████████████| 600/600 [00:16<00:00, 35.50it/s, Train_Accuracy=0.5626, Train_Loss=0.0143]\n",
      "100%|███████████████████████| 100/100 [00:01<00:00, 54.26it/s, Val_Accuracy=0.5722, Val_Loss=0.0139]\n"
     ]
    },
    {
     "name": "stdout",
     "output_type": "stream",
     "text": [
      "Model : \"./mnist_100_1_26.pth\" saved.\n"
     ]
    },
    {
     "name": "stderr",
     "output_type": "stream",
     "text": [
      "100%|███████████████████| 600/600 [00:16<00:00, 36.13it/s, Train_Accuracy=0.5656, Train_Loss=0.0143]\n",
      "100%|███████████████████████| 100/100 [00:01<00:00, 54.24it/s, Val_Accuracy=0.5703, Val_Loss=0.0140]\n"
     ]
    },
    {
     "name": "stdout",
     "output_type": "stream",
     "text": [
      "Model : \"./mnist_100_1_27.pth\" saved.\n"
     ]
    },
    {
     "name": "stderr",
     "output_type": "stream",
     "text": [
      "100%|███████████████████| 600/600 [00:15<00:00, 38.79it/s, Train_Accuracy=0.5658, Train_Loss=0.0143]\n",
      "100%|███████████████████████| 100/100 [00:01<00:00, 57.02it/s, Val_Accuracy=0.5680, Val_Loss=0.0140]\n"
     ]
    },
    {
     "name": "stdout",
     "output_type": "stream",
     "text": [
      "Model : \"./mnist_100_1_28.pth\" saved.\n"
     ]
    },
    {
     "name": "stderr",
     "output_type": "stream",
     "text": [
      "100%|███████████████████| 600/600 [00:16<00:00, 37.28it/s, Train_Accuracy=0.5671, Train_Loss=0.0143]\n",
      "100%|███████████████████████| 100/100 [00:01<00:00, 51.63it/s, Val_Accuracy=0.5723, Val_Loss=0.0139]\n"
     ]
    },
    {
     "name": "stdout",
     "output_type": "stream",
     "text": [
      "Model : \"./mnist_100_1_29.pth\" saved.\n"
     ]
    },
    {
     "name": "stderr",
     "output_type": "stream",
     "text": [
      "100%|███████████████████| 600/600 [00:18<00:00, 33.18it/s, Train_Accuracy=0.5635, Train_Loss=0.0143]\n",
      "100%|███████████████████████| 100/100 [00:02<00:00, 49.40it/s, Val_Accuracy=0.5678, Val_Loss=0.0140]\n"
     ]
    },
    {
     "name": "stdout",
     "output_type": "stream",
     "text": [
      "Model : \"./mnist_100_1_30.pth\" saved.\n"
     ]
    },
    {
     "name": "stderr",
     "output_type": "stream",
     "text": [
      "100%|███████████████████| 600/600 [00:18<00:00, 32.63it/s, Train_Accuracy=0.5656, Train_Loss=0.0143]\n",
      "100%|███████████████████████| 100/100 [00:01<00:00, 51.43it/s, Val_Accuracy=0.5689, Val_Loss=0.0139]\n"
     ]
    },
    {
     "name": "stdout",
     "output_type": "stream",
     "text": [
      "Model : \"./mnist_100_1_31.pth\" saved.\n"
     ]
    },
    {
     "name": "stderr",
     "output_type": "stream",
     "text": [
      "100%|███████████████████| 600/600 [00:18<00:00, 32.00it/s, Train_Accuracy=0.5637, Train_Loss=0.0143]\n",
      "100%|███████████████████████| 100/100 [00:02<00:00, 48.09it/s, Val_Accuracy=0.5746, Val_Loss=0.0139]\n"
     ]
    },
    {
     "name": "stdout",
     "output_type": "stream",
     "text": [
      "Model : \"./mnist_100_1_32.pth\" saved.\n"
     ]
    },
    {
     "name": "stderr",
     "output_type": "stream",
     "text": [
      "100%|███████████████████| 600/600 [00:18<00:00, 33.03it/s, Train_Accuracy=0.5639, Train_Loss=0.0143]\n",
      "100%|███████████████████████| 100/100 [00:01<00:00, 52.17it/s, Val_Accuracy=0.5698, Val_Loss=0.0139]\n"
     ]
    },
    {
     "name": "stdout",
     "output_type": "stream",
     "text": [
      "Model : \"./mnist_100_1_33.pth\" saved.\n"
     ]
    },
    {
     "name": "stderr",
     "output_type": "stream",
     "text": [
      "100%|███████████████████| 600/600 [00:18<00:00, 31.88it/s, Train_Accuracy=0.5683, Train_Loss=0.0142]\n",
      "100%|███████████████████████| 100/100 [00:01<00:00, 51.64it/s, Val_Accuracy=0.5721, Val_Loss=0.0139]\n"
     ]
    },
    {
     "name": "stdout",
     "output_type": "stream",
     "text": [
      "Model : \"./mnist_100_1_34.pth\" saved.\n"
     ]
    },
    {
     "name": "stderr",
     "output_type": "stream",
     "text": [
      "100%|███████████████████| 600/600 [00:19<00:00, 30.78it/s, Train_Accuracy=0.5678, Train_Loss=0.0143]\n",
      "100%|███████████████████████| 100/100 [00:02<00:00, 49.90it/s, Val_Accuracy=0.5741, Val_Loss=0.0139]\n"
     ]
    },
    {
     "name": "stdout",
     "output_type": "stream",
     "text": [
      "Model : \"./mnist_100_1_35.pth\" saved.\n"
     ]
    },
    {
     "name": "stderr",
     "output_type": "stream",
     "text": [
      "100%|███████████████████| 600/600 [00:18<00:00, 32.48it/s, Train_Accuracy=0.5662, Train_Loss=0.0142]\n",
      "100%|███████████████████████| 100/100 [00:01<00:00, 50.68it/s, Val_Accuracy=0.5692, Val_Loss=0.0139]\n"
     ]
    },
    {
     "name": "stdout",
     "output_type": "stream",
     "text": [
      "Model : \"./mnist_100_1_36.pth\" saved.\n"
     ]
    },
    {
     "name": "stderr",
     "output_type": "stream",
     "text": [
      "100%|███████████████████| 600/600 [00:19<00:00, 30.17it/s, Train_Accuracy=0.5666, Train_Loss=0.0142]\n",
      "100%|███████████████████████| 100/100 [00:01<00:00, 50.79it/s, Val_Accuracy=0.5739, Val_Loss=0.0139]\n"
     ]
    },
    {
     "name": "stdout",
     "output_type": "stream",
     "text": [
      "Model : \"./mnist_100_1_37.pth\" saved.\n"
     ]
    },
    {
     "name": "stderr",
     "output_type": "stream",
     "text": [
      "100%|███████████████████| 600/600 [00:18<00:00, 31.70it/s, Train_Accuracy=0.5666, Train_Loss=0.0142]\n",
      "100%|███████████████████████| 100/100 [00:01<00:00, 50.17it/s, Val_Accuracy=0.5729, Val_Loss=0.0139]\n"
     ]
    },
    {
     "name": "stdout",
     "output_type": "stream",
     "text": [
      "Model : \"./mnist_100_1_38.pth\" saved.\n"
     ]
    },
    {
     "name": "stderr",
     "output_type": "stream",
     "text": [
      "100%|███████████████████| 600/600 [00:18<00:00, 31.70it/s, Train_Accuracy=0.5663, Train_Loss=0.0142]\n",
      "100%|███████████████████████| 100/100 [00:01<00:00, 50.22it/s, Val_Accuracy=0.5758, Val_Loss=0.0139]\n"
     ]
    },
    {
     "name": "stdout",
     "output_type": "stream",
     "text": [
      "Model : \"./mnist_100_1_39.pth\" saved.\n"
     ]
    },
    {
     "name": "stderr",
     "output_type": "stream",
     "text": [
      "100%|███████████████████| 600/600 [00:18<00:00, 32.57it/s, Train_Accuracy=0.5664, Train_Loss=0.0143]\n",
      "100%|███████████████████████| 100/100 [00:01<00:00, 50.28it/s, Val_Accuracy=0.5710, Val_Loss=0.0139]\n"
     ]
    },
    {
     "name": "stdout",
     "output_type": "stream",
     "text": [
      "Model : \"./mnist_100_1_40.pth\" saved.\n"
     ]
    },
    {
     "name": "stderr",
     "output_type": "stream",
     "text": [
      "100%|███████████████████| 600/600 [00:17<00:00, 33.77it/s, Train_Accuracy=0.5681, Train_Loss=0.0142]\n",
      "100%|███████████████████████| 100/100 [00:01<00:00, 51.28it/s, Val_Accuracy=0.5709, Val_Loss=0.0138]\n"
     ]
    },
    {
     "name": "stdout",
     "output_type": "stream",
     "text": [
      "Model : \"./mnist_100_1_41.pth\" saved.\n"
     ]
    },
    {
     "name": "stderr",
     "output_type": "stream",
     "text": [
      "100%|███████████████████| 600/600 [00:16<00:00, 35.88it/s, Train_Accuracy=0.5661, Train_Loss=0.0142]\n",
      "100%|███████████████████████| 100/100 [00:01<00:00, 53.05it/s, Val_Accuracy=0.5725, Val_Loss=0.0138]\n"
     ]
    },
    {
     "name": "stdout",
     "output_type": "stream",
     "text": [
      "Model : \"./mnist_100_1_42.pth\" saved.\n"
     ]
    },
    {
     "name": "stderr",
     "output_type": "stream",
     "text": [
      "100%|███████████████████| 600/600 [00:18<00:00, 33.07it/s, Train_Accuracy=0.5672, Train_Loss=0.0142]\n",
      "100%|███████████████████████| 100/100 [00:02<00:00, 49.97it/s, Val_Accuracy=0.5723, Val_Loss=0.0139]\n"
     ]
    },
    {
     "name": "stdout",
     "output_type": "stream",
     "text": [
      "Model : \"./mnist_100_1_43.pth\" saved.\n"
     ]
    },
    {
     "name": "stderr",
     "output_type": "stream",
     "text": [
      "100%|███████████████████| 600/600 [00:18<00:00, 31.94it/s, Train_Accuracy=0.5691, Train_Loss=0.0142]\n",
      "100%|███████████████████████| 100/100 [00:01<00:00, 51.81it/s, Val_Accuracy=0.5789, Val_Loss=0.0139]\n"
     ]
    },
    {
     "name": "stdout",
     "output_type": "stream",
     "text": [
      "Model : \"./mnist_100_1_44.pth\" saved.\n"
     ]
    },
    {
     "name": "stderr",
     "output_type": "stream",
     "text": [
      "100%|███████████████████| 600/600 [00:18<00:00, 33.18it/s, Train_Accuracy=0.5679, Train_Loss=0.0142]\n",
      "100%|███████████████████████| 100/100 [00:01<00:00, 51.71it/s, Val_Accuracy=0.5786, Val_Loss=0.0138]\n"
     ]
    },
    {
     "name": "stdout",
     "output_type": "stream",
     "text": [
      "Model : \"./mnist_100_1_45.pth\" saved.\n"
     ]
    },
    {
     "name": "stderr",
     "output_type": "stream",
     "text": [
      "100%|███████████████████| 600/600 [00:18<00:00, 32.13it/s, Train_Accuracy=0.5658, Train_Loss=0.0142]\n",
      "100%|███████████████████████| 100/100 [00:01<00:00, 50.84it/s, Val_Accuracy=0.5737, Val_Loss=0.0138]\n"
     ]
    },
    {
     "name": "stdout",
     "output_type": "stream",
     "text": [
      "Model : \"./mnist_100_1_46.pth\" saved.\n"
     ]
    },
    {
     "name": "stderr",
     "output_type": "stream",
     "text": [
      "100%|███████████████████| 600/600 [00:18<00:00, 32.68it/s, Train_Accuracy=0.5694, Train_Loss=0.0142]\n",
      "100%|███████████████████████| 100/100 [00:01<00:00, 50.60it/s, Val_Accuracy=0.5737, Val_Loss=0.0138]\n"
     ]
    },
    {
     "name": "stdout",
     "output_type": "stream",
     "text": [
      "Model : \"./mnist_100_1_47.pth\" saved.\n"
     ]
    },
    {
     "name": "stderr",
     "output_type": "stream",
     "text": [
      "100%|███████████████████| 600/600 [00:18<00:00, 31.62it/s, Train_Accuracy=0.5703, Train_Loss=0.0142]\n",
      "100%|███████████████████████| 100/100 [00:01<00:00, 53.76it/s, Val_Accuracy=0.5727, Val_Loss=0.0138]\n"
     ]
    },
    {
     "name": "stdout",
     "output_type": "stream",
     "text": [
      "Model : \"./mnist_100_1_48.pth\" saved.\n"
     ]
    },
    {
     "name": "stderr",
     "output_type": "stream",
     "text": [
      "100%|███████████████████| 600/600 [00:16<00:00, 35.41it/s, Train_Accuracy=0.5664, Train_Loss=0.0142]\n",
      "100%|███████████████████████| 100/100 [00:01<00:00, 54.39it/s, Val_Accuracy=0.5731, Val_Loss=0.0138]\n"
     ]
    },
    {
     "name": "stdout",
     "output_type": "stream",
     "text": [
      "Model : \"./mnist_100_1_49.pth\" saved.\n"
     ]
    },
    {
     "name": "stderr",
     "output_type": "stream",
     "text": [
      "100%|███████████████████| 600/600 [00:15<00:00, 38.68it/s, Train_Accuracy=0.5681, Train_Loss=0.0142]\n",
      "100%|███████████████████████| 100/100 [00:01<00:00, 54.13it/s, Val_Accuracy=0.5725, Val_Loss=0.0139]\n"
     ]
    },
    {
     "name": "stdout",
     "output_type": "stream",
     "text": [
      "Model : \"./mnist_100_1_50.pth\" saved.\n"
     ]
    },
    {
     "name": "stderr",
     "output_type": "stream",
     "text": [
      "100%|███████████████████| 600/600 [00:17<00:00, 34.35it/s, Train_Accuracy=0.5701, Train_Loss=0.0142]\n",
      "100%|███████████████████████| 100/100 [00:01<00:00, 56.64it/s, Val_Accuracy=0.5731, Val_Loss=0.0138]\n"
     ]
    },
    {
     "name": "stdout",
     "output_type": "stream",
     "text": [
      "Model : \"./mnist_100_1_51.pth\" saved.\n"
     ]
    },
    {
     "name": "stderr",
     "output_type": "stream",
     "text": [
      "100%|███████████████████| 600/600 [00:16<00:00, 36.14it/s, Train_Accuracy=0.5676, Train_Loss=0.0142]\n",
      "100%|███████████████████████| 100/100 [00:01<00:00, 54.19it/s, Val_Accuracy=0.5741, Val_Loss=0.0139]\n"
     ]
    },
    {
     "name": "stdout",
     "output_type": "stream",
     "text": [
      "Model : \"./mnist_100_1_52.pth\" saved.\n"
     ]
    },
    {
     "name": "stderr",
     "output_type": "stream",
     "text": [
      "100%|███████████████████| 600/600 [00:16<00:00, 36.30it/s, Train_Accuracy=0.5683, Train_Loss=0.0142]\n",
      "100%|███████████████████████| 100/100 [00:01<00:00, 54.73it/s, Val_Accuracy=0.5766, Val_Loss=0.0138]\n"
     ]
    },
    {
     "name": "stdout",
     "output_type": "stream",
     "text": [
      "Model : \"./mnist_100_1_53.pth\" saved.\n"
     ]
    },
    {
     "name": "stderr",
     "output_type": "stream",
     "text": [
      "100%|███████████████████| 600/600 [00:16<00:00, 36.67it/s, Train_Accuracy=0.5706, Train_Loss=0.0142]\n",
      "100%|███████████████████████| 100/100 [00:01<00:00, 56.30it/s, Val_Accuracy=0.5745, Val_Loss=0.0138]\n"
     ]
    },
    {
     "name": "stdout",
     "output_type": "stream",
     "text": [
      "Model : \"./mnist_100_1_54.pth\" saved.\n"
     ]
    },
    {
     "name": "stderr",
     "output_type": "stream",
     "text": [
      "100%|███████████████████| 600/600 [00:14<00:00, 40.50it/s, Train_Accuracy=0.5684, Train_Loss=0.0142]\n",
      "100%|███████████████████████| 100/100 [00:01<00:00, 57.06it/s, Val_Accuracy=0.5753, Val_Loss=0.0138]\n"
     ]
    },
    {
     "name": "stdout",
     "output_type": "stream",
     "text": [
      "Model : \"./mnist_100_1_55.pth\" saved.\n"
     ]
    },
    {
     "name": "stderr",
     "output_type": "stream",
     "text": [
      "100%|███████████████████| 600/600 [00:14<00:00, 42.21it/s, Train_Accuracy=0.5678, Train_Loss=0.0142]\n",
      "100%|███████████████████████| 100/100 [00:01<00:00, 59.79it/s, Val_Accuracy=0.5780, Val_Loss=0.0138]\n"
     ]
    },
    {
     "name": "stdout",
     "output_type": "stream",
     "text": [
      "Model : \"./mnist_100_1_56.pth\" saved.\n"
     ]
    },
    {
     "name": "stderr",
     "output_type": "stream",
     "text": [
      "100%|███████████████████| 600/600 [00:17<00:00, 35.21it/s, Train_Accuracy=0.5713, Train_Loss=0.0142]\n",
      "100%|███████████████████████| 100/100 [00:01<00:00, 58.20it/s, Val_Accuracy=0.5729, Val_Loss=0.0138]\n"
     ]
    },
    {
     "name": "stdout",
     "output_type": "stream",
     "text": [
      "Model : \"./mnist_100_1_57.pth\" saved.\n"
     ]
    },
    {
     "name": "stderr",
     "output_type": "stream",
     "text": [
      "100%|███████████████████| 600/600 [00:17<00:00, 34.67it/s, Train_Accuracy=0.5665, Train_Loss=0.0142]\n",
      "100%|███████████████████████| 100/100 [00:02<00:00, 49.47it/s, Val_Accuracy=0.5723, Val_Loss=0.0139]\n"
     ]
    },
    {
     "name": "stdout",
     "output_type": "stream",
     "text": [
      "Model : \"./mnist_100_1_58.pth\" saved.\n"
     ]
    },
    {
     "name": "stderr",
     "output_type": "stream",
     "text": [
      "100%|███████████████████| 600/600 [00:17<00:00, 34.31it/s, Train_Accuracy=0.5678, Train_Loss=0.0142]\n",
      "100%|███████████████████████| 100/100 [00:01<00:00, 51.50it/s, Val_Accuracy=0.5779, Val_Loss=0.0138]\n"
     ]
    },
    {
     "name": "stdout",
     "output_type": "stream",
     "text": [
      "Model : \"./mnist_100_1_59.pth\" saved.\n"
     ]
    },
    {
     "name": "stderr",
     "output_type": "stream",
     "text": [
      "100%|███████████████████| 600/600 [00:17<00:00, 34.42it/s, Train_Accuracy=0.5667, Train_Loss=0.0142]\n",
      "100%|███████████████████████| 100/100 [00:01<00:00, 55.88it/s, Val_Accuracy=0.5750, Val_Loss=0.0138]\n"
     ]
    },
    {
     "name": "stdout",
     "output_type": "stream",
     "text": [
      "Model : \"./mnist_100_1_60.pth\" saved.\n"
     ]
    },
    {
     "name": "stderr",
     "output_type": "stream",
     "text": [
      "100%|███████████████████| 600/600 [00:15<00:00, 37.78it/s, Train_Accuracy=0.5671, Train_Loss=0.0142]\n",
      "100%|███████████████████████| 100/100 [00:01<00:00, 55.81it/s, Val_Accuracy=0.5749, Val_Loss=0.0138]\n"
     ]
    },
    {
     "name": "stdout",
     "output_type": "stream",
     "text": [
      "Model : \"./mnist_100_1_61.pth\" saved.\n"
     ]
    },
    {
     "name": "stderr",
     "output_type": "stream",
     "text": [
      "100%|███████████████████| 600/600 [00:15<00:00, 38.36it/s, Train_Accuracy=0.5711, Train_Loss=0.0142]\n",
      "100%|███████████████████████| 100/100 [00:01<00:00, 57.20it/s, Val_Accuracy=0.5714, Val_Loss=0.0138]\n"
     ]
    },
    {
     "name": "stdout",
     "output_type": "stream",
     "text": [
      "Model : \"./mnist_100_1_62.pth\" saved.\n"
     ]
    },
    {
     "name": "stderr",
     "output_type": "stream",
     "text": [
      "100%|███████████████████| 600/600 [00:16<00:00, 36.55it/s, Train_Accuracy=0.5689, Train_Loss=0.0142]\n",
      "100%|███████████████████████| 100/100 [00:01<00:00, 56.21it/s, Val_Accuracy=0.5738, Val_Loss=0.0138]\n"
     ]
    },
    {
     "name": "stdout",
     "output_type": "stream",
     "text": [
      "Model : \"./mnist_100_1_63.pth\" saved.\n"
     ]
    },
    {
     "name": "stderr",
     "output_type": "stream",
     "text": [
      "100%|███████████████████| 600/600 [00:16<00:00, 36.78it/s, Train_Accuracy=0.5708, Train_Loss=0.0142]\n",
      "100%|███████████████████████| 100/100 [00:01<00:00, 55.32it/s, Val_Accuracy=0.5751, Val_Loss=0.0138]\n"
     ]
    },
    {
     "name": "stdout",
     "output_type": "stream",
     "text": [
      "Model : \"./mnist_100_1_64.pth\" saved.\n"
     ]
    },
    {
     "name": "stderr",
     "output_type": "stream",
     "text": [
      "100%|███████████████████| 600/600 [00:17<00:00, 35.27it/s, Train_Accuracy=0.5684, Train_Loss=0.0142]\n",
      "100%|███████████████████████| 100/100 [00:01<00:00, 55.89it/s, Val_Accuracy=0.5743, Val_Loss=0.0138]\n"
     ]
    },
    {
     "name": "stdout",
     "output_type": "stream",
     "text": [
      "Model : \"./mnist_100_1_65.pth\" saved.\n"
     ]
    },
    {
     "name": "stderr",
     "output_type": "stream",
     "text": [
      "100%|███████████████████| 600/600 [00:15<00:00, 39.31it/s, Train_Accuracy=0.5702, Train_Loss=0.0142]\n",
      "100%|███████████████████████| 100/100 [00:01<00:00, 57.93it/s, Val_Accuracy=0.5737, Val_Loss=0.0138]\n"
     ]
    },
    {
     "name": "stdout",
     "output_type": "stream",
     "text": [
      "Model : \"./mnist_100_1_66.pth\" saved.\n"
     ]
    },
    {
     "name": "stderr",
     "output_type": "stream",
     "text": [
      "100%|███████████████████| 600/600 [00:17<00:00, 35.18it/s, Train_Accuracy=0.5706, Train_Loss=0.0142]\n",
      "100%|███████████████████████| 100/100 [00:01<00:00, 57.09it/s, Val_Accuracy=0.5794, Val_Loss=0.0138]\n"
     ]
    },
    {
     "name": "stdout",
     "output_type": "stream",
     "text": [
      "Model : \"./mnist_100_1_67.pth\" saved.\n"
     ]
    },
    {
     "name": "stderr",
     "output_type": "stream",
     "text": [
      "100%|███████████████████| 600/600 [00:15<00:00, 37.81it/s, Train_Accuracy=0.5707, Train_Loss=0.0142]\n",
      "100%|███████████████████████| 100/100 [00:01<00:00, 55.66it/s, Val_Accuracy=0.5781, Val_Loss=0.0138]\n"
     ]
    },
    {
     "name": "stdout",
     "output_type": "stream",
     "text": [
      "Model : \"./mnist_100_1_68.pth\" saved.\n"
     ]
    },
    {
     "name": "stderr",
     "output_type": "stream",
     "text": [
      "100%|███████████████████| 600/600 [00:16<00:00, 35.42it/s, Train_Accuracy=0.5702, Train_Loss=0.0142]\n",
      "100%|███████████████████████| 100/100 [00:02<00:00, 47.11it/s, Val_Accuracy=0.5753, Val_Loss=0.0138]\n"
     ]
    },
    {
     "name": "stdout",
     "output_type": "stream",
     "text": [
      "Model : \"./mnist_100_1_69.pth\" saved.\n"
     ]
    },
    {
     "name": "stderr",
     "output_type": "stream",
     "text": [
      "100%|███████████████████| 600/600 [00:18<00:00, 32.68it/s, Train_Accuracy=0.5694, Train_Loss=0.0142]\n",
      "100%|███████████████████████| 100/100 [00:02<00:00, 48.58it/s, Val_Accuracy=0.5750, Val_Loss=0.0138]\n"
     ]
    },
    {
     "name": "stdout",
     "output_type": "stream",
     "text": [
      "Model : \"./mnist_100_1_70.pth\" saved.\n"
     ]
    },
    {
     "name": "stderr",
     "output_type": "stream",
     "text": [
      "100%|███████████████████| 600/600 [00:17<00:00, 34.11it/s, Train_Accuracy=0.5721, Train_Loss=0.0141]\n",
      "100%|███████████████████████| 100/100 [00:01<00:00, 56.28it/s, Val_Accuracy=0.5769, Val_Loss=0.0138]\n"
     ]
    },
    {
     "name": "stdout",
     "output_type": "stream",
     "text": [
      "Model : \"./mnist_100_1_71.pth\" saved.\n"
     ]
    },
    {
     "name": "stderr",
     "output_type": "stream",
     "text": [
      "100%|███████████████████| 600/600 [00:17<00:00, 34.41it/s, Train_Accuracy=0.5711, Train_Loss=0.0141]\n",
      "100%|███████████████████████| 100/100 [00:01<00:00, 56.55it/s, Val_Accuracy=0.5781, Val_Loss=0.0138]\n"
     ]
    },
    {
     "name": "stdout",
     "output_type": "stream",
     "text": [
      "Model : \"./mnist_100_1_72.pth\" saved.\n"
     ]
    },
    {
     "name": "stderr",
     "output_type": "stream",
     "text": [
      "100%|███████████████████| 600/600 [00:16<00:00, 36.91it/s, Train_Accuracy=0.5706, Train_Loss=0.0142]\n",
      "100%|███████████████████████| 100/100 [00:01<00:00, 53.02it/s, Val_Accuracy=0.5765, Val_Loss=0.0138]\n"
     ]
    },
    {
     "name": "stdout",
     "output_type": "stream",
     "text": [
      "Model : \"./mnist_100_1_73.pth\" saved.\n"
     ]
    },
    {
     "name": "stderr",
     "output_type": "stream",
     "text": [
      "100%|███████████████████| 600/600 [00:16<00:00, 35.64it/s, Train_Accuracy=0.5706, Train_Loss=0.0142]\n",
      "100%|███████████████████████| 100/100 [00:01<00:00, 54.48it/s, Val_Accuracy=0.5748, Val_Loss=0.0138]\n"
     ]
    },
    {
     "name": "stdout",
     "output_type": "stream",
     "text": [
      "Model : \"./mnist_100_1_74.pth\" saved.\n"
     ]
    },
    {
     "name": "stderr",
     "output_type": "stream",
     "text": [
      "100%|███████████████████| 600/600 [00:16<00:00, 35.36it/s, Train_Accuracy=0.5710, Train_Loss=0.0142]\n",
      "100%|███████████████████████| 100/100 [00:01<00:00, 55.97it/s, Val_Accuracy=0.5776, Val_Loss=0.0138]\n"
     ]
    },
    {
     "name": "stdout",
     "output_type": "stream",
     "text": [
      "Model : \"./mnist_100_1_75.pth\" saved.\n"
     ]
    },
    {
     "name": "stderr",
     "output_type": "stream",
     "text": [
      "100%|███████████████████| 600/600 [00:17<00:00, 34.84it/s, Train_Accuracy=0.5698, Train_Loss=0.0141]\n",
      "100%|███████████████████████| 100/100 [00:01<00:00, 55.98it/s, Val_Accuracy=0.5774, Val_Loss=0.0138]\n"
     ]
    },
    {
     "name": "stdout",
     "output_type": "stream",
     "text": [
      "Model : \"./mnist_100_1_76.pth\" saved.\n"
     ]
    },
    {
     "name": "stderr",
     "output_type": "stream",
     "text": [
      "100%|███████████████████| 600/600 [00:15<00:00, 38.05it/s, Train_Accuracy=0.5694, Train_Loss=0.0142]\n",
      "100%|███████████████████████| 100/100 [00:01<00:00, 54.70it/s, Val_Accuracy=0.5762, Val_Loss=0.0138]\n"
     ]
    },
    {
     "name": "stdout",
     "output_type": "stream",
     "text": [
      "Model : \"./mnist_100_1_77.pth\" saved.\n"
     ]
    },
    {
     "name": "stderr",
     "output_type": "stream",
     "text": [
      "100%|███████████████████| 600/600 [00:16<00:00, 35.50it/s, Train_Accuracy=0.5668, Train_Loss=0.0142]\n",
      "100%|███████████████████████| 100/100 [00:01<00:00, 51.78it/s, Val_Accuracy=0.5745, Val_Loss=0.0138]\n"
     ]
    },
    {
     "name": "stdout",
     "output_type": "stream",
     "text": [
      "Model : \"./mnist_100_1_78.pth\" saved.\n"
     ]
    },
    {
     "name": "stderr",
     "output_type": "stream",
     "text": [
      "100%|███████████████████| 600/600 [00:17<00:00, 35.03it/s, Train_Accuracy=0.5693, Train_Loss=0.0142]\n",
      "100%|███████████████████████| 100/100 [00:01<00:00, 56.83it/s, Val_Accuracy=0.5768, Val_Loss=0.0138]\n"
     ]
    },
    {
     "name": "stdout",
     "output_type": "stream",
     "text": [
      "Model : \"./mnist_100_1_79.pth\" saved.\n"
     ]
    },
    {
     "name": "stderr",
     "output_type": "stream",
     "text": [
      "100%|███████████████████| 600/600 [00:15<00:00, 38.08it/s, Train_Accuracy=0.5685, Train_Loss=0.0142]\n",
      "100%|███████████████████████| 100/100 [00:01<00:00, 55.91it/s, Val_Accuracy=0.5754, Val_Loss=0.0138]\n"
     ]
    },
    {
     "name": "stdout",
     "output_type": "stream",
     "text": [
      "Model : \"./mnist_100_1_80.pth\" saved.\n"
     ]
    },
    {
     "name": "stderr",
     "output_type": "stream",
     "text": [
      "100%|███████████████████| 600/600 [00:15<00:00, 39.28it/s, Train_Accuracy=0.5711, Train_Loss=0.0142]\n",
      "100%|███████████████████████| 100/100 [00:01<00:00, 53.83it/s, Val_Accuracy=0.5780, Val_Loss=0.0138]\n"
     ]
    },
    {
     "name": "stdout",
     "output_type": "stream",
     "text": [
      "Model : \"./mnist_100_1_81.pth\" saved.\n"
     ]
    },
    {
     "name": "stderr",
     "output_type": "stream",
     "text": [
      "100%|███████████████████| 600/600 [00:16<00:00, 36.32it/s, Train_Accuracy=0.5688, Train_Loss=0.0142]\n",
      "100%|███████████████████████| 100/100 [00:01<00:00, 56.45it/s, Val_Accuracy=0.5778, Val_Loss=0.0138]\n"
     ]
    },
    {
     "name": "stdout",
     "output_type": "stream",
     "text": [
      "Model : \"./mnist_100_1_82.pth\" saved.\n"
     ]
    },
    {
     "name": "stderr",
     "output_type": "stream",
     "text": [
      "100%|███████████████████| 600/600 [00:17<00:00, 34.15it/s, Train_Accuracy=0.5721, Train_Loss=0.0142]\n",
      "100%|███████████████████████| 100/100 [00:01<00:00, 56.12it/s, Val_Accuracy=0.5748, Val_Loss=0.0138]\n"
     ]
    },
    {
     "name": "stdout",
     "output_type": "stream",
     "text": [
      "Model : \"./mnist_100_1_83.pth\" saved.\n"
     ]
    },
    {
     "name": "stderr",
     "output_type": "stream",
     "text": [
      "100%|███████████████████| 600/600 [00:16<00:00, 36.81it/s, Train_Accuracy=0.5726, Train_Loss=0.0141]\n",
      "100%|███████████████████████| 100/100 [00:01<00:00, 55.97it/s, Val_Accuracy=0.5754, Val_Loss=0.0138]\n"
     ]
    },
    {
     "name": "stdout",
     "output_type": "stream",
     "text": [
      "Model : \"./mnist_100_1_84.pth\" saved.\n"
     ]
    },
    {
     "name": "stderr",
     "output_type": "stream",
     "text": [
      "100%|███████████████████| 600/600 [00:15<00:00, 39.17it/s, Train_Accuracy=0.5681, Train_Loss=0.0142]\n",
      "100%|███████████████████████| 100/100 [00:01<00:00, 58.82it/s, Val_Accuracy=0.5763, Val_Loss=0.0138]\n"
     ]
    },
    {
     "name": "stdout",
     "output_type": "stream",
     "text": [
      "Model : \"./mnist_100_1_85.pth\" saved.\n"
     ]
    },
    {
     "name": "stderr",
     "output_type": "stream",
     "text": [
      "100%|███████████████████| 600/600 [00:15<00:00, 38.95it/s, Train_Accuracy=0.5711, Train_Loss=0.0142]\n",
      "100%|███████████████████████| 100/100 [00:01<00:00, 60.88it/s, Val_Accuracy=0.5765, Val_Loss=0.0138]\n"
     ]
    },
    {
     "name": "stdout",
     "output_type": "stream",
     "text": [
      "Model : \"./mnist_100_1_86.pth\" saved.\n"
     ]
    },
    {
     "name": "stderr",
     "output_type": "stream",
     "text": [
      "100%|███████████████████| 600/600 [00:16<00:00, 36.90it/s, Train_Accuracy=0.5706, Train_Loss=0.0141]\n",
      "100%|███████████████████████| 100/100 [00:01<00:00, 54.02it/s, Val_Accuracy=0.5766, Val_Loss=0.0138]\n"
     ]
    },
    {
     "name": "stdout",
     "output_type": "stream",
     "text": [
      "Model : \"./mnist_100_1_87.pth\" saved.\n"
     ]
    },
    {
     "name": "stderr",
     "output_type": "stream",
     "text": [
      "100%|███████████████████| 600/600 [00:16<00:00, 35.62it/s, Train_Accuracy=0.5719, Train_Loss=0.0141]\n",
      "100%|███████████████████████| 100/100 [00:01<00:00, 54.66it/s, Val_Accuracy=0.5758, Val_Loss=0.0138]\n"
     ]
    },
    {
     "name": "stdout",
     "output_type": "stream",
     "text": [
      "Model : \"./mnist_100_1_88.pth\" saved.\n"
     ]
    },
    {
     "name": "stderr",
     "output_type": "stream",
     "text": [
      "100%|███████████████████| 600/600 [00:17<00:00, 33.36it/s, Train_Accuracy=0.5691, Train_Loss=0.0142]\n",
      "100%|███████████████████████| 100/100 [00:02<00:00, 48.92it/s, Val_Accuracy=0.5779, Val_Loss=0.0138]\n"
     ]
    },
    {
     "name": "stdout",
     "output_type": "stream",
     "text": [
      "Model : \"./mnist_100_1_89.pth\" saved.\n"
     ]
    },
    {
     "name": "stderr",
     "output_type": "stream",
     "text": [
      "100%|███████████████████| 600/600 [00:17<00:00, 34.54it/s, Train_Accuracy=0.5713, Train_Loss=0.0141]\n",
      "100%|███████████████████████| 100/100 [00:01<00:00, 57.36it/s, Val_Accuracy=0.5751, Val_Loss=0.0138]\n"
     ]
    },
    {
     "name": "stdout",
     "output_type": "stream",
     "text": [
      "Model : \"./mnist_100_1_90.pth\" saved.\n"
     ]
    },
    {
     "name": "stderr",
     "output_type": "stream",
     "text": [
      "100%|███████████████████| 600/600 [00:17<00:00, 34.55it/s, Train_Accuracy=0.5710, Train_Loss=0.0142]\n",
      "100%|███████████████████████| 100/100 [00:01<00:00, 53.84it/s, Val_Accuracy=0.5764, Val_Loss=0.0138]\n"
     ]
    },
    {
     "name": "stdout",
     "output_type": "stream",
     "text": [
      "Model : \"./mnist_100_1_91.pth\" saved.\n"
     ]
    },
    {
     "name": "stderr",
     "output_type": "stream",
     "text": [
      "100%|███████████████████| 600/600 [00:17<00:00, 34.95it/s, Train_Accuracy=0.5706, Train_Loss=0.0142]\n",
      "100%|███████████████████████| 100/100 [00:01<00:00, 56.06it/s, Val_Accuracy=0.5763, Val_Loss=0.0138]\n"
     ]
    },
    {
     "name": "stdout",
     "output_type": "stream",
     "text": [
      "Model : \"./mnist_100_1_92.pth\" saved.\n"
     ]
    },
    {
     "name": "stderr",
     "output_type": "stream",
     "text": [
      "100%|███████████████████| 600/600 [00:17<00:00, 35.14it/s, Train_Accuracy=0.5719, Train_Loss=0.0141]\n",
      "100%|███████████████████████| 100/100 [00:01<00:00, 52.84it/s, Val_Accuracy=0.5770, Val_Loss=0.0138]\n"
     ]
    },
    {
     "name": "stdout",
     "output_type": "stream",
     "text": [
      "Model : \"./mnist_100_1_93.pth\" saved.\n"
     ]
    },
    {
     "name": "stderr",
     "output_type": "stream",
     "text": [
      "100%|███████████████████| 600/600 [00:17<00:00, 34.74it/s, Train_Accuracy=0.5703, Train_Loss=0.0142]\n",
      "100%|███████████████████████| 100/100 [00:01<00:00, 53.50it/s, Val_Accuracy=0.5762, Val_Loss=0.0138]\n"
     ]
    },
    {
     "name": "stdout",
     "output_type": "stream",
     "text": [
      "Model : \"./mnist_100_1_94.pth\" saved.\n"
     ]
    },
    {
     "name": "stderr",
     "output_type": "stream",
     "text": [
      "100%|███████████████████| 600/600 [00:18<00:00, 33.18it/s, Train_Accuracy=0.5699, Train_Loss=0.0142]\n",
      "100%|███████████████████████| 100/100 [00:01<00:00, 54.62it/s, Val_Accuracy=0.5774, Val_Loss=0.0138]\n"
     ]
    },
    {
     "name": "stdout",
     "output_type": "stream",
     "text": [
      "Model : \"./mnist_100_1_95.pth\" saved.\n"
     ]
    },
    {
     "name": "stderr",
     "output_type": "stream",
     "text": [
      "100%|███████████████████| 600/600 [00:17<00:00, 34.75it/s, Train_Accuracy=0.5718, Train_Loss=0.0141]\n",
      "100%|███████████████████████| 100/100 [00:01<00:00, 53.79it/s, Val_Accuracy=0.5790, Val_Loss=0.0138]\n"
     ]
    },
    {
     "name": "stdout",
     "output_type": "stream",
     "text": [
      "Model : \"./mnist_100_1_96.pth\" saved.\n"
     ]
    },
    {
     "name": "stderr",
     "output_type": "stream",
     "text": [
      "100%|███████████████████| 600/600 [00:17<00:00, 34.94it/s, Train_Accuracy=0.5715, Train_Loss=0.0142]\n",
      "100%|███████████████████████| 100/100 [00:01<00:00, 54.69it/s, Val_Accuracy=0.5771, Val_Loss=0.0138]\n"
     ]
    },
    {
     "name": "stdout",
     "output_type": "stream",
     "text": [
      "Model : \"./mnist_100_1_97.pth\" saved.\n"
     ]
    },
    {
     "name": "stderr",
     "output_type": "stream",
     "text": [
      "100%|███████████████████| 600/600 [00:16<00:00, 37.40it/s, Train_Accuracy=0.5696, Train_Loss=0.0142]\n",
      "100%|███████████████████████| 100/100 [00:01<00:00, 52.04it/s, Val_Accuracy=0.5767, Val_Loss=0.0138]\n"
     ]
    },
    {
     "name": "stdout",
     "output_type": "stream",
     "text": [
      "Model : \"./mnist_100_1_98.pth\" saved.\n"
     ]
    },
    {
     "name": "stderr",
     "output_type": "stream",
     "text": [
      "100%|███████████████████| 600/600 [00:18<00:00, 33.30it/s, Train_Accuracy=0.5687, Train_Loss=0.0142]\n",
      "100%|███████████████████████| 100/100 [00:01<00:00, 57.04it/s, Val_Accuracy=0.5774, Val_Loss=0.0138]\n"
     ]
    },
    {
     "name": "stdout",
     "output_type": "stream",
     "text": [
      "Model : \"./mnist_100_1_99.pth\" saved.\n"
     ]
    },
    {
     "name": "stderr",
     "output_type": "stream",
     "text": [
      "100%|███████████████████| 600/600 [00:16<00:00, 35.88it/s, Train_Accuracy=0.5693, Train_Loss=0.0141]\n",
      "100%|███████████████████████| 100/100 [00:01<00:00, 55.11it/s, Val_Accuracy=0.5766, Val_Loss=0.0138]\n"
     ]
    },
    {
     "name": "stdout",
     "output_type": "stream",
     "text": [
      "Model : \"./mnist_100_1_100.pth\" saved.\n"
     ]
    },
    {
     "name": "stderr",
     "output_type": "stream",
     "text": [
      "100%|███████████████████| 600/600 [00:17<00:00, 34.68it/s, Train_Accuracy=0.5700, Train_Loss=0.0142]\n",
      "100%|███████████████████████| 100/100 [00:01<00:00, 56.90it/s, Val_Accuracy=0.5771, Val_Loss=0.0138]\n"
     ]
    },
    {
     "name": "stdout",
     "output_type": "stream",
     "text": [
      "Model : \"./mnist_100_1_101.pth\" saved.\n"
     ]
    },
    {
     "name": "stderr",
     "output_type": "stream",
     "text": [
      "100%|███████████████████| 600/600 [00:17<00:00, 34.99it/s, Train_Accuracy=0.5702, Train_Loss=0.0142]\n",
      "100%|███████████████████████| 100/100 [00:01<00:00, 57.91it/s, Val_Accuracy=0.5774, Val_Loss=0.0138]\n"
     ]
    },
    {
     "name": "stdout",
     "output_type": "stream",
     "text": [
      "Model : \"./mnist_100_1_102.pth\" saved.\n"
     ]
    },
    {
     "name": "stderr",
     "output_type": "stream",
     "text": [
      "100%|███████████████████| 600/600 [00:13<00:00, 45.10it/s, Train_Accuracy=0.5716, Train_Loss=0.0141]\n",
      "100%|███████████████████████| 100/100 [00:01<00:00, 59.99it/s, Val_Accuracy=0.5777, Val_Loss=0.0138]\n"
     ]
    },
    {
     "name": "stdout",
     "output_type": "stream",
     "text": [
      "Model : \"./mnist_100_1_103.pth\" saved.\n"
     ]
    },
    {
     "name": "stderr",
     "output_type": "stream",
     "text": [
      "100%|███████████████████| 600/600 [00:16<00:00, 35.68it/s, Train_Accuracy=0.5692, Train_Loss=0.0142]\n",
      "100%|███████████████████████| 100/100 [00:01<00:00, 56.37it/s, Val_Accuracy=0.5773, Val_Loss=0.0138]\n"
     ]
    },
    {
     "name": "stdout",
     "output_type": "stream",
     "text": [
      "Model : \"./mnist_100_1_104.pth\" saved.\n"
     ]
    },
    {
     "name": "stderr",
     "output_type": "stream",
     "text": [
      "100%|███████████████████| 600/600 [00:16<00:00, 36.88it/s, Train_Accuracy=0.5717, Train_Loss=0.0141]\n",
      "100%|███████████████████████| 100/100 [00:01<00:00, 55.24it/s, Val_Accuracy=0.5779, Val_Loss=0.0138]\n"
     ]
    },
    {
     "name": "stdout",
     "output_type": "stream",
     "text": [
      "Model : \"./mnist_100_1_105.pth\" saved.\n"
     ]
    },
    {
     "name": "stderr",
     "output_type": "stream",
     "text": [
      "100%|███████████████████| 600/600 [00:14<00:00, 40.55it/s, Train_Accuracy=0.5708, Train_Loss=0.0142]\n",
      "100%|███████████████████████| 100/100 [00:01<00:00, 56.94it/s, Val_Accuracy=0.5787, Val_Loss=0.0138]\n"
     ]
    },
    {
     "name": "stdout",
     "output_type": "stream",
     "text": [
      "Model : \"./mnist_100_1_106.pth\" saved.\n"
     ]
    },
    {
     "name": "stderr",
     "output_type": "stream",
     "text": [
      "100%|███████████████████| 600/600 [00:16<00:00, 37.22it/s, Train_Accuracy=0.5717, Train_Loss=0.0141]\n",
      "100%|███████████████████████| 100/100 [00:01<00:00, 52.60it/s, Val_Accuracy=0.5785, Val_Loss=0.0138]\n"
     ]
    },
    {
     "name": "stdout",
     "output_type": "stream",
     "text": [
      "Model : \"./mnist_100_1_107.pth\" saved.\n"
     ]
    },
    {
     "name": "stderr",
     "output_type": "stream",
     "text": [
      "100%|███████████████████| 600/600 [00:18<00:00, 32.79it/s, Train_Accuracy=0.5701, Train_Loss=0.0141]\n",
      "100%|███████████████████████| 100/100 [00:01<00:00, 51.26it/s, Val_Accuracy=0.5772, Val_Loss=0.0138]\n"
     ]
    },
    {
     "name": "stdout",
     "output_type": "stream",
     "text": [
      "Model : \"./mnist_100_1_108.pth\" saved.\n"
     ]
    },
    {
     "name": "stderr",
     "output_type": "stream",
     "text": [
      "100%|███████████████████| 600/600 [00:18<00:00, 32.71it/s, Train_Accuracy=0.5719, Train_Loss=0.0141]\n",
      "100%|███████████████████████| 100/100 [00:01<00:00, 50.54it/s, Val_Accuracy=0.5779, Val_Loss=0.0138]\n"
     ]
    },
    {
     "name": "stdout",
     "output_type": "stream",
     "text": [
      "Model : \"./mnist_100_1_109.pth\" saved.\n"
     ]
    },
    {
     "name": "stderr",
     "output_type": "stream",
     "text": [
      "100%|███████████████████| 600/600 [00:16<00:00, 35.98it/s, Train_Accuracy=0.5700, Train_Loss=0.0141]\n",
      "100%|███████████████████████| 100/100 [00:01<00:00, 56.22it/s, Val_Accuracy=0.5775, Val_Loss=0.0138]\n"
     ]
    },
    {
     "name": "stdout",
     "output_type": "stream",
     "text": [
      "Model : \"./mnist_100_1_110.pth\" saved.\n"
     ]
    },
    {
     "name": "stderr",
     "output_type": "stream",
     "text": [
      "100%|███████████████████| 600/600 [00:16<00:00, 36.55it/s, Train_Accuracy=0.5720, Train_Loss=0.0141]\n",
      "100%|███████████████████████| 100/100 [00:01<00:00, 59.31it/s, Val_Accuracy=0.5763, Val_Loss=0.0138]\n"
     ]
    },
    {
     "name": "stdout",
     "output_type": "stream",
     "text": [
      "Model : \"./mnist_100_1_111.pth\" saved.\n"
     ]
    },
    {
     "name": "stderr",
     "output_type": "stream",
     "text": [
      "100%|███████████████████| 600/600 [00:15<00:00, 39.85it/s, Train_Accuracy=0.5691, Train_Loss=0.0142]\n",
      "100%|███████████████████████| 100/100 [00:01<00:00, 56.00it/s, Val_Accuracy=0.5768, Val_Loss=0.0138]\n"
     ]
    },
    {
     "name": "stdout",
     "output_type": "stream",
     "text": [
      "Model : \"./mnist_100_1_112.pth\" saved.\n"
     ]
    },
    {
     "name": "stderr",
     "output_type": "stream",
     "text": [
      "100%|███████████████████| 600/600 [00:15<00:00, 38.06it/s, Train_Accuracy=0.5706, Train_Loss=0.0141]\n",
      "100%|███████████████████████| 100/100 [00:01<00:00, 56.62it/s, Val_Accuracy=0.5766, Val_Loss=0.0138]\n"
     ]
    },
    {
     "name": "stdout",
     "output_type": "stream",
     "text": [
      "Model : \"./mnist_100_1_113.pth\" saved.\n"
     ]
    },
    {
     "name": "stderr",
     "output_type": "stream",
     "text": [
      "100%|███████████████████| 600/600 [00:16<00:00, 35.57it/s, Train_Accuracy=0.5703, Train_Loss=0.0141]\n",
      "100%|███████████████████████| 100/100 [00:01<00:00, 55.94it/s, Val_Accuracy=0.5782, Val_Loss=0.0138]\n"
     ]
    },
    {
     "name": "stdout",
     "output_type": "stream",
     "text": [
      "Model : \"./mnist_100_1_114.pth\" saved.\n"
     ]
    },
    {
     "name": "stderr",
     "output_type": "stream",
     "text": [
      "100%|███████████████████| 600/600 [00:18<00:00, 33.28it/s, Train_Accuracy=0.5713, Train_Loss=0.0141]\n",
      "100%|███████████████████████| 100/100 [00:01<00:00, 55.88it/s, Val_Accuracy=0.5776, Val_Loss=0.0138]\n"
     ]
    },
    {
     "name": "stdout",
     "output_type": "stream",
     "text": [
      "Model : \"./mnist_100_1_115.pth\" saved.\n"
     ]
    },
    {
     "name": "stderr",
     "output_type": "stream",
     "text": [
      "100%|███████████████████| 600/600 [00:17<00:00, 35.04it/s, Train_Accuracy=0.5711, Train_Loss=0.0142]\n",
      "100%|███████████████████████| 100/100 [00:01<00:00, 56.59it/s, Val_Accuracy=0.5775, Val_Loss=0.0138]\n"
     ]
    },
    {
     "name": "stdout",
     "output_type": "stream",
     "text": [
      "Model : \"./mnist_100_1_116.pth\" saved.\n"
     ]
    },
    {
     "name": "stderr",
     "output_type": "stream",
     "text": [
      "100%|███████████████████| 600/600 [00:17<00:00, 34.40it/s, Train_Accuracy=0.5710, Train_Loss=0.0141]\n",
      "100%|███████████████████████| 100/100 [00:01<00:00, 56.74it/s, Val_Accuracy=0.5770, Val_Loss=0.0138]\n"
     ]
    },
    {
     "name": "stdout",
     "output_type": "stream",
     "text": [
      "Model : \"./mnist_100_1_117.pth\" saved.\n"
     ]
    },
    {
     "name": "stderr",
     "output_type": "stream",
     "text": [
      "100%|███████████████████| 600/600 [00:17<00:00, 34.97it/s, Train_Accuracy=0.5689, Train_Loss=0.0142]\n",
      "100%|███████████████████████| 100/100 [00:01<00:00, 53.26it/s, Val_Accuracy=0.5773, Val_Loss=0.0138]\n"
     ]
    },
    {
     "name": "stdout",
     "output_type": "stream",
     "text": [
      "Model : \"./mnist_100_1_118.pth\" saved.\n"
     ]
    },
    {
     "name": "stderr",
     "output_type": "stream",
     "text": [
      "100%|███████████████████| 600/600 [00:17<00:00, 34.05it/s, Train_Accuracy=0.5710, Train_Loss=0.0141]\n",
      "100%|███████████████████████| 100/100 [00:02<00:00, 48.81it/s, Val_Accuracy=0.5771, Val_Loss=0.0138]\n"
     ]
    },
    {
     "name": "stdout",
     "output_type": "stream",
     "text": [
      "Model : \"./mnist_100_1_119.pth\" saved.\n"
     ]
    },
    {
     "name": "stderr",
     "output_type": "stream",
     "text": [
      "100%|███████████████████| 600/600 [00:17<00:00, 34.60it/s, Train_Accuracy=0.5714, Train_Loss=0.0142]\n",
      "100%|███████████████████████| 100/100 [00:01<00:00, 54.62it/s, Val_Accuracy=0.5777, Val_Loss=0.0138]\n"
     ]
    },
    {
     "name": "stdout",
     "output_type": "stream",
     "text": [
      "Model : \"./mnist_100_1_120.pth\" saved.\n"
     ]
    },
    {
     "name": "stderr",
     "output_type": "stream",
     "text": [
      "100%|███████████████████| 600/600 [00:14<00:00, 40.18it/s, Train_Accuracy=0.5696, Train_Loss=0.0142]\n",
      "100%|███████████████████████| 100/100 [00:01<00:00, 56.36it/s, Val_Accuracy=0.5781, Val_Loss=0.0138]\n"
     ]
    },
    {
     "name": "stdout",
     "output_type": "stream",
     "text": [
      "Model : \"./mnist_100_1_121.pth\" saved.\n"
     ]
    },
    {
     "name": "stderr",
     "output_type": "stream",
     "text": [
      "100%|███████████████████| 600/600 [00:16<00:00, 36.72it/s, Train_Accuracy=0.5727, Train_Loss=0.0141]\n",
      "100%|███████████████████████| 100/100 [00:01<00:00, 54.69it/s, Val_Accuracy=0.5778, Val_Loss=0.0138]\n"
     ]
    },
    {
     "name": "stdout",
     "output_type": "stream",
     "text": [
      "Model : \"./mnist_100_1_122.pth\" saved.\n"
     ]
    },
    {
     "name": "stderr",
     "output_type": "stream",
     "text": [
      "100%|███████████████████| 600/600 [00:16<00:00, 36.05it/s, Train_Accuracy=0.5730, Train_Loss=0.0141]\n",
      "100%|███████████████████████| 100/100 [00:01<00:00, 55.88it/s, Val_Accuracy=0.5782, Val_Loss=0.0138]\n"
     ]
    },
    {
     "name": "stdout",
     "output_type": "stream",
     "text": [
      "Model : \"./mnist_100_1_123.pth\" saved.\n"
     ]
    },
    {
     "name": "stderr",
     "output_type": "stream",
     "text": [
      "100%|███████████████████| 600/600 [00:15<00:00, 39.53it/s, Train_Accuracy=0.5707, Train_Loss=0.0141]\n",
      "100%|███████████████████████| 100/100 [00:01<00:00, 57.12it/s, Val_Accuracy=0.5770, Val_Loss=0.0138]\n"
     ]
    },
    {
     "name": "stdout",
     "output_type": "stream",
     "text": [
      "Model : \"./mnist_100_1_124.pth\" saved.\n"
     ]
    },
    {
     "name": "stderr",
     "output_type": "stream",
     "text": [
      "100%|███████████████████| 600/600 [00:15<00:00, 37.73it/s, Train_Accuracy=0.5703, Train_Loss=0.0141]\n",
      "100%|███████████████████████| 100/100 [00:01<00:00, 57.43it/s, Val_Accuracy=0.5783, Val_Loss=0.0138]\n"
     ]
    },
    {
     "name": "stdout",
     "output_type": "stream",
     "text": [
      "Model : \"./mnist_100_1_125.pth\" saved.\n"
     ]
    },
    {
     "name": "stderr",
     "output_type": "stream",
     "text": [
      "100%|███████████████████| 600/600 [00:16<00:00, 36.58it/s, Train_Accuracy=0.5705, Train_Loss=0.0141]\n",
      "100%|███████████████████████| 100/100 [00:01<00:00, 56.45it/s, Val_Accuracy=0.5781, Val_Loss=0.0138]\n"
     ]
    },
    {
     "name": "stdout",
     "output_type": "stream",
     "text": [
      "Model : \"./mnist_100_1_126.pth\" saved.\n"
     ]
    },
    {
     "name": "stderr",
     "output_type": "stream",
     "text": [
      "100%|███████████████████| 600/600 [00:16<00:00, 37.03it/s, Train_Accuracy=0.5728, Train_Loss=0.0141]\n",
      "100%|███████████████████████| 100/100 [00:01<00:00, 52.90it/s, Val_Accuracy=0.5778, Val_Loss=0.0138]\n"
     ]
    },
    {
     "name": "stdout",
     "output_type": "stream",
     "text": [
      "Model : \"./mnist_100_1_127.pth\" saved.\n"
     ]
    },
    {
     "name": "stderr",
     "output_type": "stream",
     "text": [
      "100%|███████████████████| 600/600 [00:14<00:00, 40.44it/s, Train_Accuracy=0.5700, Train_Loss=0.0142]\n",
      "100%|███████████████████████| 100/100 [00:01<00:00, 58.14it/s, Val_Accuracy=0.5774, Val_Loss=0.0138]\n"
     ]
    },
    {
     "name": "stdout",
     "output_type": "stream",
     "text": [
      "Model : \"./mnist_100_1_128.pth\" saved.\n"
     ]
    },
    {
     "name": "stderr",
     "output_type": "stream",
     "text": [
      "100%|███████████████████| 600/600 [00:15<00:00, 38.92it/s, Train_Accuracy=0.5721, Train_Loss=0.0141]\n",
      "100%|███████████████████████| 100/100 [00:01<00:00, 55.37it/s, Val_Accuracy=0.5768, Val_Loss=0.0138]\n"
     ]
    },
    {
     "name": "stdout",
     "output_type": "stream",
     "text": [
      "Model : \"./mnist_100_1_129.pth\" saved.\n"
     ]
    },
    {
     "name": "stderr",
     "output_type": "stream",
     "text": [
      "100%|███████████████████| 600/600 [00:16<00:00, 37.13it/s, Train_Accuracy=0.5700, Train_Loss=0.0142]\n",
      "100%|███████████████████████| 100/100 [00:01<00:00, 56.96it/s, Val_Accuracy=0.5762, Val_Loss=0.0138]\n"
     ]
    },
    {
     "name": "stdout",
     "output_type": "stream",
     "text": [
      "Model : \"./mnist_100_1_130.pth\" saved.\n"
     ]
    },
    {
     "name": "stderr",
     "output_type": "stream",
     "text": [
      "100%|███████████████████| 600/600 [00:17<00:00, 34.45it/s, Train_Accuracy=0.5692, Train_Loss=0.0141]\n",
      "100%|███████████████████████| 100/100 [00:01<00:00, 55.21it/s, Val_Accuracy=0.5763, Val_Loss=0.0138]\n"
     ]
    },
    {
     "name": "stdout",
     "output_type": "stream",
     "text": [
      "Model : \"./mnist_100_1_131.pth\" saved.\n"
     ]
    },
    {
     "name": "stderr",
     "output_type": "stream",
     "text": [
      "100%|███████████████████| 600/600 [00:17<00:00, 35.21it/s, Train_Accuracy=0.5690, Train_Loss=0.0142]\n",
      "100%|███████████████████████| 100/100 [00:01<00:00, 54.71it/s, Val_Accuracy=0.5761, Val_Loss=0.0138]\n"
     ]
    },
    {
     "name": "stdout",
     "output_type": "stream",
     "text": [
      "Model : \"./mnist_100_1_132.pth\" saved.\n"
     ]
    },
    {
     "name": "stderr",
     "output_type": "stream",
     "text": [
      "100%|███████████████████| 600/600 [00:16<00:00, 35.52it/s, Train_Accuracy=0.5723, Train_Loss=0.0141]\n",
      "100%|███████████████████████| 100/100 [00:01<00:00, 53.99it/s, Val_Accuracy=0.5764, Val_Loss=0.0138]\n"
     ]
    },
    {
     "name": "stdout",
     "output_type": "stream",
     "text": [
      "Model : \"./mnist_100_1_133.pth\" saved.\n"
     ]
    },
    {
     "name": "stderr",
     "output_type": "stream",
     "text": [
      "100%|███████████████████| 600/600 [00:16<00:00, 35.30it/s, Train_Accuracy=0.5732, Train_Loss=0.0141]\n",
      "100%|███████████████████████| 100/100 [00:01<00:00, 54.53it/s, Val_Accuracy=0.5775, Val_Loss=0.0138]\n"
     ]
    },
    {
     "name": "stdout",
     "output_type": "stream",
     "text": [
      "Model : \"./mnist_100_1_134.pth\" saved.\n"
     ]
    },
    {
     "name": "stderr",
     "output_type": "stream",
     "text": [
      "100%|███████████████████| 600/600 [00:17<00:00, 33.44it/s, Train_Accuracy=0.5695, Train_Loss=0.0142]\n",
      "100%|███████████████████████| 100/100 [00:01<00:00, 55.90it/s, Val_Accuracy=0.5772, Val_Loss=0.0138]\n"
     ]
    },
    {
     "name": "stdout",
     "output_type": "stream",
     "text": [
      "Model : \"./mnist_100_1_135.pth\" saved.\n"
     ]
    },
    {
     "name": "stderr",
     "output_type": "stream",
     "text": [
      "100%|███████████████████| 600/600 [00:17<00:00, 34.10it/s, Train_Accuracy=0.5706, Train_Loss=0.0141]\n",
      "100%|███████████████████████| 100/100 [00:01<00:00, 52.22it/s, Val_Accuracy=0.5772, Val_Loss=0.0138]\n"
     ]
    },
    {
     "name": "stdout",
     "output_type": "stream",
     "text": [
      "Model : \"./mnist_100_1_136.pth\" saved.\n"
     ]
    },
    {
     "name": "stderr",
     "output_type": "stream",
     "text": [
      "100%|███████████████████| 600/600 [00:17<00:00, 34.92it/s, Train_Accuracy=0.5681, Train_Loss=0.0142]\n",
      "100%|███████████████████████| 100/100 [00:01<00:00, 55.34it/s, Val_Accuracy=0.5767, Val_Loss=0.0138]\n"
     ]
    },
    {
     "name": "stdout",
     "output_type": "stream",
     "text": [
      "Model : \"./mnist_100_1_137.pth\" saved.\n"
     ]
    },
    {
     "name": "stderr",
     "output_type": "stream",
     "text": [
      " 59%|███████████▏       | 354/600 [00:09<00:06, 39.35it/s, Train_Accuracy=0.5718, Train_Loss=0.0141]"
     ]
    }
   ],
   "source": [
    "train_sce(num_layers)"
   ]
  },
  {
   "cell_type": "markdown",
   "metadata": {},
   "source": [
    "### ID2NN模型评估"
   ]
  },
  {
   "cell_type": "code",
   "execution_count": null,
   "metadata": {},
   "outputs": [],
   "source": [
    "with open('training_history_300_5.pkl', 'rb') as f:\n",
    "    training_history = pickle.load(f)\n",
    "    \n",
    "def plot_training_history():\n",
    "    \n",
    "    # Create a figure with two subplots\n",
    "    fig, axs = plt.subplots(1, 2, figsize=(12, 4))\n",
    "    # fig.set_dpi(300)\n",
    "    # Plot training and validation loss\n",
    "    epochs = len(training_history['train_loss'])\n",
    "    axs[0].plot(range(1, epochs+1), [l for l in training_history['train_loss']], label='train_loss')\n",
    "    axs[0].plot(range(1, epochs+1), [l for l in training_history['val_loss']], label='val_loss')\n",
    "    axs[0].set_title('Training and validation loss')\n",
    "    axs[0].set_xlabel('Epochs')\n",
    "    axs[0].set_ylabel('Loss')\n",
    "    axs[0].legend()\n",
    "\n",
    "    # Plot training and validation accuracy\n",
    "    axs[1].plot(range(1, epochs+1), [a for a in training_history['train_acc']], label='train_acc')\n",
    "    axs[1].plot(range(1, epochs+1), [a for a in training_history['val_acc']], label='val_acc')\n",
    "    axs[1].set_title('Training and validation accuracy')\n",
    "    axs[1].set_xlabel('Epochs')\n",
    "    axs[1].set_ylabel('Accuracy')\n",
    "    axs[1].legend()\n",
    "    plt.savefig(\"./training_history.svg\", dpi=600)\n",
    "    plt.show()\n",
    "plot_training_history()\n",
    "\n",
    "np.max(training_history['val_acc']) # 超过 92.6%"
   ]
  }
 ],
 "metadata": {
  "kernelspec": {
   "display_name": "Python 3 (ipykernel)",
   "language": "python",
   "name": "python3"
  },
  "language_info": {
   "codemirror_mode": {
    "name": "ipython",
    "version": 3
   },
   "file_extension": ".py",
   "mimetype": "text/x-python",
   "name": "python",
   "nbconvert_exporter": "python",
   "pygments_lexer": "ipython3",
   "version": "3.7.10"
  }
 },
 "nbformat": 4,
 "nbformat_minor": 4
}
